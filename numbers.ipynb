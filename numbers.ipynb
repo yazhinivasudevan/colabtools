{
  "nbformat": 4,
  "nbformat_minor": 0,
  "metadata": {
    "colab": {
      "provenance": [],
      "authorship_tag": "ABX9TyP4V1xB1xxPg4uMXo81ozVt",
      "include_colab_link": true
    },
    "kernelspec": {
      "name": "python3",
      "display_name": "Python 3"
    },
    "language_info": {
      "name": "python"
    }
  },
  "cells": [
    {
      "cell_type": "markdown",
      "metadata": {
        "id": "view-in-github",
        "colab_type": "text"
      },
      "source": [
        "<a href=\"https://colab.research.google.com/github/yazhinivasudevan/colabtools/blob/main/numbers.ipynb\" target=\"_parent\"><img src=\"https://colab.research.google.com/assets/colab-badge.svg\" alt=\"Open In Colab\"/></a>"
      ]
    },
    {
      "cell_type": "code",
      "execution_count": null,
      "metadata": {
        "colab": {
          "base_uri": "https://localhost:8080/"
        },
        "id": "iEaP6Y1qEfM6",
        "outputId": "99b93a16-9f9e-4538-bab3-1a7df93ed34e"
      },
      "outputs": [
        {
          "output_type": "stream",
          "name": "stdout",
          "text": [
            "Enter Numerator: 04\n",
            "Enter Denominator: 02\n",
            "Result is: 2.0\n",
            "Division is successful.\n"
          ]
        }
      ],
      "source": [
        "try:\n",
        "    num1 = int(input('Enter Numerator: '))\n",
        "    num2 = int(input('Enter Denominator: '))\n",
        "    division = num1/num2\n",
        "    print(f'Result is: {division}')\n",
        "except:\n",
        "    print('Invalid input!')\n",
        "else:\n",
        "    print('Division is successful.')\n",
        "\n",
        "\n",
        "## Try 1 ##\n",
        "# Enter Numerator: 2\n",
        "# Enter Denominator: d\n",
        "# Invalid input!\n",
        "\n",
        "## Try 2 ##\n",
        "# Enter Numerator: 2\n",
        "# Enter Denominator: 1\n",
        "# Result is: 2.0\n",
        "# Division is successful."
      ]
    },
    {
      "cell_type": "code",
      "source": [
        "import pandas as pd\n",
        "import numpy as np\n",
        "\n",
        "# dictionary of lists\n",
        "dict = {'id':[1, 4, np.nan, 9],\n",
        "        'Age': [30, 45, np.nan, np.nan],\n",
        "        'Score':[np.nan, 140, 180, 198]}\n",
        "\n",
        "# creating a DataFrame\n",
        "df = pd.DataFrame(dict)\n",
        "\n",
        "df.isnull().sum()\n",
        "# id       1\n",
        "# Age      2\n",
        "# Score    1"
      ],
      "metadata": {
        "colab": {
          "base_uri": "https://localhost:8080/"
        },
        "id": "owRu6ntzEqUp",
        "outputId": "1dff0263-68be-4de7-92dd-11e6ceb47d43"
      },
      "execution_count": null,
      "outputs": [
        {
          "output_type": "execute_result",
          "data": {
            "text/plain": [
              "id       1\n",
              "Age      2\n",
              "Score    1\n",
              "dtype: int64"
            ]
          },
          "metadata": {},
          "execution_count": 2
        }
      ]
    },
    {
      "cell_type": "code",
      "source": [
        "def factorial_trailing_zeros(n):\n",
        "\n",
        "    fact = n\n",
        "    while n > 1:\n",
        "        fact *= n - 1\n",
        "        n -= 1\n",
        "\n",
        "    result = 0\n",
        "\n",
        "    for i in str(fact)[::-1]:\n",
        "        if i == \"0\":\n",
        "            result += 1\n",
        "        else:\n",
        "            break\n",
        "\n",
        "    return result\n",
        "\n",
        "\n",
        "factorial_trailing_zeros(10)\n",
        "# 2\n",
        "factorial_trailing_zeros(18)\n",
        "# 3"
      ],
      "metadata": {
        "colab": {
          "base_uri": "https://localhost:8080/"
        },
        "id": "DTgxb00oGL95",
        "outputId": "6ba93ece-380e-481a-b988-2cdb227b6200"
      },
      "execution_count": null,
      "outputs": [
        {
          "output_type": "execute_result",
          "data": {
            "text/plain": [
              "3"
            ]
          },
          "metadata": {},
          "execution_count": 3
        }
      ]
    },
    {
      "cell_type": "code",
      "source": [
        "def find_missing(input_list):\n",
        "\n",
        "  sum_of_elements = sum(input_list)\n",
        "\n",
        "  # There is exactly 1 number missing\n",
        "  n = len(input_list) + 1\n",
        "  actual_sum = (n * ( n + 1 ) ) / 2\n",
        "\n",
        "  return int(actual_sum - sum_of_elements)\n",
        "list_1 = [1,5,6,3,4]\n",
        "\n",
        "\n",
        "find_missing(list_1)"
      ],
      "metadata": {
        "colab": {
          "base_uri": "https://localhost:8080/"
        },
        "id": "D1_IarpUGeBf",
        "outputId": "f174e4a4-8d27-4318-f0b0-fb8f527144fb"
      },
      "execution_count": null,
      "outputs": [
        {
          "output_type": "execute_result",
          "data": {
            "text/plain": [
              "2"
            ]
          },
          "metadata": {},
          "execution_count": 4
        }
      ]
    },
    {
      "cell_type": "code",
      "source": [
        "num = int(input(\"Enter a number: \"))\n",
        "# Input: 12321\n",
        "temp = num\n",
        "reverse = 0\n",
        "while temp > 0:\n",
        "    remainder = temp % 10\n",
        "    reverse = (reverse * 10) + remainder\n",
        "    temp = temp // 10\n",
        "if num == reverse:\n",
        "  print('Palindrome')\n",
        "else:\n",
        "  print(\"Not Palindrome\")"
      ],
      "metadata": {
        "colab": {
          "base_uri": "https://localhost:8080/"
        },
        "id": "zgVJzjX6KfYQ",
        "outputId": "34737a4b-a715-46e6-863d-41182581d39f"
      },
      "execution_count": null,
      "outputs": [
        {
          "output_type": "stream",
          "name": "stdout",
          "text": [
            "Enter a number: 22\n",
            "Palindrome\n"
          ]
        }
      ]
    }
  ]
}