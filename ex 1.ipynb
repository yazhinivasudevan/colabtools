{
  "nbformat": 4,
  "nbformat_minor": 0,
  "metadata": {
    "colab": {
      "provenance": [],
      "authorship_tag": "ABX9TyOoEUnqbfbFNLljEzOi184z",
      "include_colab_link": true
    },
    "kernelspec": {
      "name": "python3",
      "display_name": "Python 3"
    },
    "language_info": {
      "name": "python"
    }
  },
  "cells": [
    {
      "cell_type": "markdown",
      "metadata": {
        "id": "view-in-github",
        "colab_type": "text"
      },
      "source": [
        "<a href=\"https://colab.research.google.com/github/yazhinivasudevan/colabtools/blob/main/ex%201.ipynb\" target=\"_parent\"><img src=\"https://colab.research.google.com/assets/colab-badge.svg\" alt=\"Open In Colab\"/></a>"
      ]
    },
    {
      "cell_type": "code",
      "execution_count": 2,
      "metadata": {
        "colab": {
          "base_uri": "https://localhost:8080/"
        },
        "id": "2NbS9_y5VvAv",
        "outputId": "bfbefa28-6eba-4b86-f14c-b851e1a09449"
      },
      "outputs": [
        {
          "output_type": "stream",
          "name": "stdout",
          "text": [
            "can't didvide by zero\n",
            "This is always executed\n"
          ]
        }
      ],
      "source": [
        "try:\n",
        "    k=5//0\n",
        "    print(k)\n",
        "\n",
        "except ZeroDivisionError:\n",
        "    print(\"can't didvide by zero\")\n",
        "\n",
        "finally:\n",
        " print(\"This is always executed\")"
      ]
    },
    {
      "cell_type": "code",
      "source": [
        "try:\n",
        "    k=5//5\n",
        "    print(k)\n",
        "\n",
        "except ZeroDivisionError:\n",
        "    print(\"can't didvide by zero\")\n",
        "\n",
        "finally:\n",
        " print(\"This is always executed\")"
      ],
      "metadata": {
        "colab": {
          "base_uri": "https://localhost:8080/"
        },
        "id": "9FDMQBOjWEbu",
        "outputId": "9c82af57-2614-437e-c609-4660c9437b45"
      },
      "execution_count": 3,
      "outputs": [
        {
          "output_type": "stream",
          "name": "stdout",
          "text": [
            "1\n",
            "This is always executed\n"
          ]
        }
      ]
    },
    {
      "cell_type": "code",
      "source": [
        "class Myclass:\n",
        "    x=5\n",
        ""
      ],
      "metadata": {
        "id": "o424ZVnxXstA"
      },
      "execution_count": 7,
      "outputs": []
    },
    {
      "cell_type": "code",
      "source": [
        "p1 = Myclass()\n",
        "print(p1.x)"
      ],
      "metadata": {
        "colab": {
          "base_uri": "https://localhost:8080/"
        },
        "id": "jwCZeSE4Xyy8",
        "outputId": "28e93ea7-4796-465d-c6f9-3cd046759a3d"
      },
      "execution_count": 8,
      "outputs": [
        {
          "output_type": "stream",
          "name": "stdout",
          "text": [
            "5\n"
          ]
        }
      ]
    },
    {
      "cell_type": "code",
      "source": [
        "class person:\n",
        "   def __init__(self,name,age):\n",
        "      self.name =name\n",
        "      self.age =age\n",
        "      p1 = person(\"john\",36)\n",
        "      print(p1.name)\n",
        "      print(p1.age)\n",
        ""
      ],
      "metadata": {
        "id": "sSUIQFkfX8bJ"
      },
      "execution_count": 11,
      "outputs": []
    },
    {
      "cell_type": "code",
      "source": [],
      "metadata": {
        "id": "A_x8a9zecZ8C"
      },
      "execution_count": null,
      "outputs": []
    }
  ]
}