{
  "nbformat": 4,
  "nbformat_minor": 0,
  "metadata": {
    "colab": {
      "provenance": [],
      "authorship_tag": "ABX9TyOblU6VRj0ycJdX940xP4m7",
      "include_colab_link": true
    },
    "kernelspec": {
      "name": "python3",
      "display_name": "Python 3"
    },
    "language_info": {
      "name": "python"
    }
  },
  "cells": [
    {
      "cell_type": "markdown",
      "metadata": {
        "id": "view-in-github",
        "colab_type": "text"
      },
      "source": [
        "<a href=\"https://colab.research.google.com/github/yazhinivasudevan/colabtools/blob/main/Copy_of_Untitled2.ipynb\" target=\"_parent\"><img src=\"https://colab.research.google.com/assets/colab-badge.svg\" alt=\"Open In Colab\"/></a>"
      ]
    },
    {
      "cell_type": "markdown",
      "source": [
        "Hand Written Digit Prediction - Classification Analysis\n",
        "\n",
        "The digits dataset consists of 8x8 pixel images of digits. The images attribute of the dataset stores 8x8 arrays of grayscale values for each image. We will use these arrays to visualize the first 4 images. The target attribute of the dataset stores the digit each image represents"
      ],
      "metadata": {
        "id": "105-9z6f99qy"
      }
    },
    {
      "cell_type": "code",
      "source": [
        "import pandas as pd"
      ],
      "metadata": {
        "id": "LCL2Hm29-m0D"
      },
      "execution_count": null,
      "outputs": []
    },
    {
      "cell_type": "code",
      "source": [
        "import numpy as np\n"
      ],
      "metadata": {
        "id": "SAH8OPLv-02g"
      },
      "execution_count": null,
      "outputs": []
    },
    {
      "cell_type": "code",
      "source": [
        "import matplotlib.pyplot as plt\n"
      ],
      "metadata": {
        "id": "JVQugD6p-62v"
      },
      "execution_count": null,
      "outputs": []
    },
    {
      "cell_type": "markdown",
      "source": [
        "Import data"
      ],
      "metadata": {
        "id": "9iyUfj6W_BXv"
      }
    },
    {
      "cell_type": "code",
      "source": [
        "from sklearn.datasets import load_digits"
      ],
      "metadata": {
        "id": "fKOUUh6b_YoQ"
      },
      "execution_count": null,
      "outputs": []
    },
    {
      "cell_type": "code",
      "source": [
        "df = load_digits()"
      ],
      "metadata": {
        "id": "8CqGdHiU_eIA"
      },
      "execution_count": null,
      "outputs": []
    },
    {
      "cell_type": "code",
      "source": [
        "_,axes = plt.subplots(nrows=1, ncols=4, figsize=(10, 3))\n",
        "for ax, image, label in zip(axes, df.images, df.target):\n",
        "  ax.set_axis_off()\n",
        "  ax.imshow(image, cmap=plt.cm.gray_r, interpolation=\"nearest\")\n",
        "\n"
      ],
      "metadata": {
        "colab": {
          "base_uri": "https://localhost:8080/",
          "height": 205
        },
        "id": "vEVRhIAp_ti-",
        "outputId": "d75f53fa-4ce5-4585-c89c-301b4544418f"
      },
      "execution_count": null,
      "outputs": [
        {
          "output_type": "display_data",
          "data": {
            "text/plain": [
              "<Figure size 1000x300 with 4 Axes>"
            ],
            "image/png": "[encoded data removed]"
          },
          "metadata": {}
        }
      ]
    },
    {
      "cell_type": "markdown",
      "source": [
        " Data processing\n",
        "\n",
        " flatten image"
      ],
      "metadata": {
        "id": "-t3Yqg8lB7xS"
      }
    },
    {
      "cell_type": "code",
      "source": [
        "df.images.shape"
      ],
      "metadata": {
        "colab": {
          "base_uri": "https://localhost:8080/"
        },
        "id": "oXs_xnduMPgL",
        "outputId": "8f635384-c53f-42ff-ed36-7542eb668dc5"
      },
      "execution_count": null,
      "outputs": [
        {
          "output_type": "execute_result",
          "data": {
            "text/plain": [
              "(1797, 8, 8)"
            ]
          },
          "metadata": {},
          "execution_count": 13
        }
      ]
    },
    {
      "cell_type": "code",
      "source": [
        "df.images[0]"
      ],
      "metadata": {
        "colab": {
          "base_uri": "https://localhost:8080/"
        },
        "id": "tORYYLFSMV3h",
        "outputId": "5ec5bd25-c2a9-4d13-ca4c-e30e4aae4c87"
      },
      "execution_count": null,
      "outputs": [
        {
          "output_type": "execute_result",
          "data": {
            "text/plain": [
              "array([[ 0.,  0.,  5., 13.,  9.,  1.,  0.,  0.],\n",
              "       [ 0.,  0., 13., 15., 10., 15.,  5.,  0.],\n",
              "       [ 0.,  3., 15.,  2.,  0., 11.,  8.,  0.],\n",
              "       [ 0.,  4., 12.,  0.,  0.,  8.,  8.,  0.],\n",
              "       [ 0.,  5.,  8.,  0.,  0.,  9.,  8.,  0.],\n",
              "       [ 0.,  4., 11.,  0.,  1., 12.,  7.,  0.],\n",
              "       [ 0.,  2., 14.,  5., 10., 12.,  0.,  0.],\n",
              "       [ 0.,  0.,  6., 13., 10.,  0.,  0.,  0.]])"
            ]
          },
          "metadata": {},
          "execution_count": 14
        }
      ]
    },
    {
      "cell_type": "code",
      "source": [
        "df.images[0].shape"
      ],
      "metadata": {
        "colab": {
          "base_uri": "https://localhost:8080/"
        },
        "id": "1fOe8rGDMxf8",
        "outputId": "11d738d4-4fae-4824-c512-8e30a83fef40"
      },
      "execution_count": null,
      "outputs": [
        {
          "output_type": "execute_result",
          "data": {
            "text/plain": [
              "(8, 8)"
            ]
          },
          "metadata": {},
          "execution_count": 17
        }
      ]
    },
    {
      "cell_type": "code",
      "source": [
        "len(df.images)"
      ],
      "metadata": {
        "colab": {
          "base_uri": "https://localhost:8080/"
        },
        "id": "6RFtvV9RM5U8",
        "outputId": "f977c7f3-677b-4ed3-bed1-19c2caa2d744"
      },
      "execution_count": null,
      "outputs": [
        {
          "output_type": "execute_result",
          "data": {
            "text/plain": [
              "1797"
            ]
          },
          "metadata": {},
          "execution_count": 18
        }
      ]
    },
    {
      "cell_type": "code",
      "source": [
        "n_sample = len(df.images)\n",
        "data=df.images.reshape((n_sample , -1))"
      ],
      "metadata": {
        "id": "zrzMGfAsM_Nw"
      },
      "execution_count": null,
      "outputs": []
    },
    {
      "cell_type": "code",
      "source": [
        "data[0]"
      ],
      "metadata": {
        "colab": {
          "base_uri": "https://localhost:8080/"
        },
        "id": "clbtrpg1NUNu",
        "outputId": "0720000e-dc11-4009-ff88-0901fe410a4c"
      },
      "execution_count": null,
      "outputs": [
        {
          "output_type": "execute_result",
          "data": {
            "text/plain": [
              "array([ 0.,  0.,  5., 13.,  9.,  1.,  0.,  0.,  0.,  0., 13., 15., 10.,\n",
              "       15.,  5.,  0.,  0.,  3., 15.,  2.,  0., 11.,  8.,  0.,  0.,  4.,\n",
              "       12.,  0.,  0.,  8.,  8.,  0.,  0.,  5.,  8.,  0.,  0.,  9.,  8.,\n",
              "        0.,  0.,  4., 11.,  0.,  1., 12.,  7.,  0.,  0.,  2., 14.,  5.,\n",
              "       10., 12.,  0.,  0.,  0.,  0.,  6., 13., 10.,  0.,  0.,  0.])"
            ]
          },
          "metadata": {},
          "execution_count": 21
        }
      ]
    },
    {
      "cell_type": "code",
      "source": [
        "data[0].shape"
      ],
      "metadata": {
        "colab": {
          "base_uri": "https://localhost:8080/"
        },
        "id": "2GHQe6w1NYLW",
        "outputId": "28e30280-2c2d-4aeb-8d20-f27fc574b7c7"
      },
      "execution_count": null,
      "outputs": [
        {
          "output_type": "execute_result",
          "data": {
            "text/plain": [
              "(64,)"
            ]
          },
          "metadata": {},
          "execution_count": 22
        }
      ]
    },
    {
      "cell_type": "code",
      "source": [
        "data.shape"
      ],
      "metadata": {
        "colab": {
          "base_uri": "https://localhost:8080/"
        },
        "id": "Vt-L7oEaNeiW",
        "outputId": "cbeae740-fbf3-41c2-8956-189e6acf771d"
      },
      "execution_count": null,
      "outputs": [
        {
          "output_type": "execute_result",
          "data": {
            "text/plain": [
              "(1797, 64)"
            ]
          },
          "metadata": {},
          "execution_count": 23
        }
      ]
    },
    {
      "cell_type": "markdown",
      "source": [
        "Scaling image data"
      ],
      "metadata": {
        "id": "EBxUBi10Nm1E"
      }
    },
    {
      "cell_type": "code",
      "source": [
        "data.min()"
      ],
      "metadata": {
        "colab": {
          "base_uri": "https://localhost:8080/"
        },
        "id": "JlCFtRvfNqnU",
        "outputId": "6b5cb3bc-017c-4ded-81d4-c29e10c7cb6d"
      },
      "execution_count": null,
      "outputs": [
        {
          "output_type": "execute_result",
          "data": {
            "text/plain": [
              "0.0"
            ]
          },
          "metadata": {},
          "execution_count": 24
        }
      ]
    },
    {
      "cell_type": "code",
      "source": [
        "data.max()"
      ],
      "metadata": {
        "colab": {
          "base_uri": "https://localhost:8080/"
        },
        "id": "XBbxSxTaNvvn",
        "outputId": "7d2f4e3c-b394-4433-cbe8-6293667f6ba7"
      },
      "execution_count": null,
      "outputs": [
        {
          "output_type": "execute_result",
          "data": {
            "text/plain": [
              "16.0"
            ]
          },
          "metadata": {},
          "execution_count": 25
        }
      ]
    },
    {
      "cell_type": "code",
      "source": [
        "data=data/16"
      ],
      "metadata": {
        "id": "FNyWcTVANyZB"
      },
      "execution_count": null,
      "outputs": []
    },
    {
      "cell_type": "code",
      "source": [
        "data.min()"
      ],
      "metadata": {
        "colab": {
          "base_uri": "https://localhost:8080/"
        },
        "id": "7ImPVsAaN4hk",
        "outputId": "dd6a4846-1cd2-4243-a005-03dc8017a4b2"
      },
      "execution_count": null,
      "outputs": [
        {
          "output_type": "execute_result",
          "data": {
            "text/plain": [
              "0.0"
            ]
          },
          "metadata": {},
          "execution_count": 27
        }
      ]
    },
    {
      "cell_type": "code",
      "source": [
        "data.max()"
      ],
      "metadata": {
        "colab": {
          "base_uri": "https://localhost:8080/"
        },
        "id": "wzxctd5eN9I5",
        "outputId": "c5f49b66-b405-4be8-9596-0572db37dcab"
      },
      "execution_count": null,
      "outputs": [
        {
          "output_type": "execute_result",
          "data": {
            "text/plain": [
              "1.0"
            ]
          },
          "metadata": {},
          "execution_count": 28
        }
      ]
    },
    {
      "cell_type": "code",
      "source": [
        "data[0]"
      ],
      "metadata": {
        "colab": {
          "base_uri": "https://localhost:8080/"
        },
        "id": "nb3-ldyVOAbB",
        "outputId": "a3981338-2f7c-4064-aedf-88819160be53"
      },
      "execution_count": null,
      "outputs": [
        {
          "output_type": "execute_result",
          "data": {
            "text/plain": [
              "array([0.    , 0.    , 0.3125, 0.8125, 0.5625, 0.0625, 0.    , 0.    ,\n",
              "       0.    , 0.    , 0.8125, 0.9375, 0.625 , 0.9375, 0.3125, 0.    ,\n",
              "       0.    , 0.1875, 0.9375, 0.125 , 0.    , 0.6875, 0.5   , 0.    ,\n",
              "       0.    , 0.25  , 0.75  , 0.    , 0.    , 0.5   , 0.5   , 0.    ,\n",
              "       0.    , 0.3125, 0.5   , 0.    , 0.    , 0.5625, 0.5   , 0.    ,\n",
              "       0.    , 0.25  , 0.6875, 0.    , 0.0625, 0.75  , 0.4375, 0.    ,\n",
              "       0.    , 0.125 , 0.875 , 0.3125, 0.625 , 0.75  , 0.    , 0.    ,\n",
              "       0.    , 0.    , 0.375 , 0.8125, 0.625 , 0.    , 0.    , 0.    ])"
            ]
          },
          "metadata": {},
          "execution_count": 29
        }
      ]
    },
    {
      "cell_type": "markdown",
      "source": [
        "Train Test Split Data"
      ],
      "metadata": {
        "id": "CFkQhjv1OKWJ"
      }
    },
    {
      "cell_type": "code",
      "source": [
        "from sklearn.model_selection import train_test_split"
      ],
      "metadata": {
        "id": "ofy9-Zr2OPWt"
      },
      "execution_count": null,
      "outputs": []
    },
    {
      "cell_type": "code",
      "source": [
        "X_train, X_test, y_train, y_test = train_test_split(data, df.target, test_size=0.3)"
      ],
      "metadata": {
        "id": "Ci4EyW_EOeA9"
      },
      "execution_count": null,
      "outputs": []
    },
    {
      "cell_type": "code",
      "source": [
        "X_train.shape, X_test.shape, y_train. shape, y_test.shape\n",
        "((1257, 64), (540, 64), (1257,), (540,))"
      ],
      "metadata": {
        "colab": {
          "base_uri": "https://localhost:8080/"
        },
        "id": "EI2yWObtOnyj",
        "outputId": "966f30aa-45d0-4b7c-a8a3-b1a67e601ac4"
      },
      "execution_count": null,
      "outputs": [
        {
          "output_type": "execute_result",
          "data": {
            "text/plain": [
              "((1257, 64), (540, 64), (1257,), (540,))"
            ]
          },
          "metadata": {},
          "execution_count": 32
        }
      ]
    },
    {
      "cell_type": "markdown",
      "source": [
        "Random Forest Model"
      ],
      "metadata": {
        "id": "XSJ_eU8_O0fy"
      }
    },
    {
      "cell_type": "code",
      "source": [
        "from sklearn.ensemble import RandomForestClassifier"
      ],
      "metadata": {
        "id": "OvYnCQonO755"
      },
      "execution_count": null,
      "outputs": []
    },
    {
      "cell_type": "code",
      "source": [
        "rf = RandomForestClassifier()"
      ],
      "metadata": {
        "id": "A1SLWKR7O-HM"
      },
      "execution_count": null,
      "outputs": []
    },
    {
      "cell_type": "code",
      "source": [
        "rf.fit(X_train, y_train)"
      ],
      "metadata": {
        "id": "hRciuAMUPYT5"
      },
      "execution_count": null,
      "outputs": []
    },
    {
      "cell_type": "code",
      "source": [
        "RandomForestClassifier()"
      ],
      "metadata": {
        "id": "wznVc1vjPcUd"
      },
      "execution_count": null,
      "outputs": []
    },
    {
      "cell_type": "markdown",
      "source": [],
      "metadata": {
        "id": "Mb9Q9yKIPmpj"
      }
    },
    {
      "cell_type": "markdown",
      "source": [
        "Predict Test Data"
      ],
      "metadata": {
        "id": "DmkcMvirPpcS"
      }
    },
    {
      "cell_type": "code",
      "source": [
        "y_pred= rf.predict(X_test)"
      ],
      "metadata": {
        "id": "NLLBDAahPsqa"
      },
      "execution_count": null,
      "outputs": []
    },
    {
      "cell_type": "code",
      "source": [
        "y_pred"
      ],
      "metadata": {
        "colab": {
          "base_uri": "https://localhost:8080/"
        },
        "id": "akZbnFb7P1oc",
        "outputId": "daf81396-effe-4866-dfce-a793fc8938ad"
      },
      "execution_count": null,
      "outputs": [
        {
          "output_type": "execute_result",
          "data": {
            "text/plain": [
              "array([3, 6, 0, 2, 9, 8, 0, 4, 7, 5, 5, 2, 1, 2, 4, 3, 7, 8, 4, 3, 8, 4,\n",
              "       3, 4, 1, 7, 9, 2, 7, 4, 2, 9, 5, 7, 6, 9, 6, 7, 9, 3, 8, 7, 9, 8,\n",
              "       4, 1, 7, 4, 0, 7, 4, 2, 2, 0, 1, 4, 5, 1, 4, 2, 4, 8, 2, 8, 5, 3,\n",
              "       4, 6, 1, 4, 2, 9, 0, 1, 6, 7, 7, 1, 2, 0, 3, 7, 3, 2, 7, 6, 7, 5,\n",
              "       5, 2, 3, 9, 4, 6, 0, 5, 7, 7, 6, 7, 5, 9, 1, 3, 8, 3, 6, 0, 8, 0,\n",
              "       1, 9, 1, 7, 9, 0, 3, 6, 7, 3, 5, 5, 8, 9, 6, 6, 4, 1, 8, 9, 0, 7,\n",
              "       0, 4, 7, 6, 7, 1, 0, 2, 8, 5, 7, 1, 5, 7, 8, 9, 9, 2, 9, 0, 2, 0,\n",
              "       0, 8, 9, 2, 5, 5, 2, 0, 2, 7, 8, 5, 8, 9, 0, 6, 8, 4, 8, 2, 4, 6,\n",
              "       3, 0, 5, 2, 8, 5, 0, 4, 3, 1, 9, 5, 8, 9, 0, 2, 3, 6, 2, 7, 9, 3,\n",
              "       2, 8, 2, 1, 6, 8, 7, 6, 3, 9, 2, 4, 1, 0, 8, 2, 2, 0, 1, 3, 8, 4,\n",
              "       5, 0, 3, 3, 7, 8, 4, 2, 3, 8, 0, 9, 8, 1, 8, 1, 8, 7, 1, 3, 0, 0,\n",
              "       1, 5, 7, 0, 0, 5, 1, 0, 0, 8, 1, 4, 4, 1, 9, 5, 9, 7, 6, 2, 8, 1,\n",
              "       7, 7, 2, 5, 9, 2, 3, 1, 4, 2, 9, 1, 1, 7, 2, 9, 6, 7, 0, 1, 1, 0,\n",
              "       4, 2, 2, 8, 0, 4, 2, 3, 0, 6, 1, 4, 7, 5, 9, 2, 1, 4, 6, 8, 8, 9,\n",
              "       3, 4, 9, 3, 3, 0, 6, 2, 4, 4, 5, 2, 2, 0, 0, 2, 8, 3, 6, 6, 7, 3,\n",
              "       6, 0, 7, 4, 8, 8, 4, 0, 7, 1, 6, 6, 7, 1, 6, 1, 7, 1, 2, 2, 1, 3,\n",
              "       9, 7, 7, 0, 2, 8, 4, 5, 3, 5, 3, 1, 0, 5, 9, 1, 0, 0, 5, 6, 4, 8,\n",
              "       2, 9, 9, 6, 5, 9, 8, 2, 2, 1, 1, 4, 6, 1, 7, 0, 5, 1, 4, 0, 9, 3,\n",
              "       7, 9, 3, 7, 8, 6, 6, 0, 2, 1, 2, 9, 1, 1, 2, 6, 7, 8, 6, 9, 8, 1,\n",
              "       5, 2, 9, 2, 5, 5, 0, 1, 1, 2, 4, 7, 5, 8, 3, 4, 2, 9, 1, 2, 5, 6,\n",
              "       1, 5, 9, 5, 3, 4, 3, 2, 5, 7, 3, 7, 2, 8, 5, 0, 1, 1, 4, 5, 2, 2,\n",
              "       8, 8, 4, 4, 8, 6, 3, 2, 2, 8, 4, 5, 9, 2, 7, 1, 6, 4, 1, 6, 9, 4,\n",
              "       4, 2, 6, 1, 2, 4, 9, 4, 8, 5, 9, 7, 8, 4, 2, 1, 7, 1, 9, 2, 8, 6,\n",
              "       5, 2, 4, 9, 0, 4, 1, 0, 1, 0, 7, 8, 1, 1, 8, 3, 0, 3, 4, 4, 9, 5,\n",
              "       9, 9, 4, 5, 9, 0, 9, 2, 5, 1, 4, 0])"
            ]
          },
          "metadata": {},
          "execution_count": 39
        }
      ]
    },
    {
      "cell_type": "markdown",
      "source": [
        "Model Accurancy"
      ],
      "metadata": {
        "id": "zQ6blG8zQBHX"
      }
    },
    {
      "cell_type": "code",
      "source": [
        "from sklearn.metrics import confusion_matrix, classification_report"
      ],
      "metadata": {
        "id": "_dXxafrTQDw5"
      },
      "execution_count": null,
      "outputs": []
    },
    {
      "cell_type": "code",
      "source": [
        "confusion_matrix(y_test, y_pred)"
      ],
      "metadata": {
        "colab": {
          "base_uri": "https://localhost:8080/"
        },
        "id": "HTzVHXmVQe5B",
        "outputId": "3548605d-891a-4ce7-906d-e7b1de7e6ce6"
      },
      "execution_count": null,
      "outputs": [
        {
          "output_type": "execute_result",
          "data": {
            "text/plain": [
              "array([[54,  0,  0,  0,  0,  0,  0,  0,  0,  0],\n",
              "       [ 0, 59,  0,  0,  0,  0,  0,  0,  0,  0],\n",
              "       [ 0,  1, 69,  0,  0,  0,  0,  0,  0,  0],\n",
              "       [ 0,  0,  0, 41,  0,  0,  0,  0,  1,  1],\n",
              "       [ 0,  0,  0,  0, 57,  0,  0,  0,  0,  0],\n",
              "       [ 0,  0,  0,  0,  1, 46,  0,  0,  0,  0],\n",
              "       [ 1,  0,  0,  0,  0,  0, 42,  0,  0,  0],\n",
              "       [ 0,  0,  0,  0,  0,  0,  0, 53,  0,  0],\n",
              "       [ 0,  4,  0,  0,  0,  0,  0,  1, 53,  0],\n",
              "       [ 0,  0,  0,  1,  0,  2,  0,  0,  0, 53]])"
            ]
          },
          "metadata": {},
          "execution_count": 43
        }
      ]
    },
    {
      "cell_type": "code",
      "source": [
        "print(classification_report(y_test, y_pred))"
      ],
      "metadata": {
        "colab": {
          "base_uri": "https://localhost:8080/"
        },
        "id": "9URxJvffQnEL",
        "outputId": "650850a5-ca24-4966-bf5b-200f92802a91"
      },
      "execution_count": null,
      "outputs": [
        {
          "output_type": "stream",
          "name": "stdout",
          "text": [
            "              precision    recall  f1-score   support\n",
            "\n",
            "           0       0.98      1.00      0.99        54\n",
            "           1       0.92      1.00      0.96        59\n",
            "           2       1.00      0.99      0.99        70\n",
            "           3       0.98      0.95      0.96        43\n",
            "           4       0.98      1.00      0.99        57\n",
            "           5       0.96      0.98      0.97        47\n",
            "           6       1.00      0.98      0.99        43\n",
            "           7       0.98      1.00      0.99        53\n",
            "           8       0.98      0.91      0.95        58\n",
            "           9       0.98      0.95      0.96        56\n",
            "\n",
            "    accuracy                           0.98       540\n",
            "   macro avg       0.98      0.98      0.98       540\n",
            "weighted avg       0.98      0.98      0.98       540\n",
            "\n"
          ]
        }
      ]
    }
  ]
}